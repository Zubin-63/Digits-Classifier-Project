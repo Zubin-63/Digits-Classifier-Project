{
 "cells": [
  {
   "cell_type": "markdown",
   "id": "707d44d4",
   "metadata": {},
   "source": [
    "# Dataset Information\n",
    "\n",
    "The MNIST dataset contains images of handwritten digits from 0 to 9.\n",
    "\n",
    "- Each image is **28x28 pixels**, stored as **784 pixel values** in one row.\n",
    "- The first column is **'label'**, which tells which digit the image represents.\n",
    "- The remaining columns are pixel values ranging from 0 to 255.\n",
    "- The training dataset has **60,000 samples** and the test file dataset **10,000 samples**.\n",
    "\n",
    "This dataset is commonly used to train and test digit recognition models.\n",
    "\n",
    "## Import Modules and Load Dataset\n"
   ]
  },
  {
   "cell_type": "code",
   "execution_count": 1,
   "id": "fd0904d2",
   "metadata": {},
   "outputs": [],
   "source": [
    "import numpy as np\n",
    "import matplotlib.pyplot as plt\n",
    "import pandas as pd\n",
    "train_dataset=pd.read_csv(r\"mnist_train.csv\")\n",
    "test_dataset=pd.read_csv(r\"mnist_test.csv\")\n",
    "m=train_dataset.shape[0]\n",
    "n=train_dataset.shape[1]\n",
    "\n"
   ]
  },
  {
   "cell_type": "markdown",
   "id": "4fd30b44",
   "metadata": {},
   "source": [
    "## Preview datasets"
   ]
  },
  {
   "cell_type": "code",
   "execution_count": 5,
   "id": "b61a9fe6",
   "metadata": {},
   "outputs": [
    {
     "data": {
      "text/html": [
       "<div>\n",
       "<style scoped>\n",
       "    .dataframe tbody tr th:only-of-type {\n",
       "        vertical-align: middle;\n",
       "    }\n",
       "\n",
       "    .dataframe tbody tr th {\n",
       "        vertical-align: top;\n",
       "    }\n",
       "\n",
       "    .dataframe thead th {\n",
       "        text-align: right;\n",
       "    }\n",
       "</style>\n",
       "<table border=\"1\" class=\"dataframe\">\n",
       "  <thead>\n",
       "    <tr style=\"text-align: right;\">\n",
       "      <th></th>\n",
       "      <th>label</th>\n",
       "      <th>1x1</th>\n",
       "      <th>1x2</th>\n",
       "      <th>1x3</th>\n",
       "      <th>1x4</th>\n",
       "      <th>1x5</th>\n",
       "      <th>1x6</th>\n",
       "      <th>1x7</th>\n",
       "      <th>1x8</th>\n",
       "      <th>1x9</th>\n",
       "      <th>...</th>\n",
       "      <th>28x19</th>\n",
       "      <th>28x20</th>\n",
       "      <th>28x21</th>\n",
       "      <th>28x22</th>\n",
       "      <th>28x23</th>\n",
       "      <th>28x24</th>\n",
       "      <th>28x25</th>\n",
       "      <th>28x26</th>\n",
       "      <th>28x27</th>\n",
       "      <th>28x28</th>\n",
       "    </tr>\n",
       "  </thead>\n",
       "  <tbody>\n",
       "    <tr>\n",
       "      <th>0</th>\n",
       "      <td>7</td>\n",
       "      <td>0</td>\n",
       "      <td>0</td>\n",
       "      <td>0</td>\n",
       "      <td>0</td>\n",
       "      <td>0</td>\n",
       "      <td>0</td>\n",
       "      <td>0</td>\n",
       "      <td>0</td>\n",
       "      <td>0</td>\n",
       "      <td>...</td>\n",
       "      <td>0</td>\n",
       "      <td>0</td>\n",
       "      <td>0</td>\n",
       "      <td>0</td>\n",
       "      <td>0</td>\n",
       "      <td>0</td>\n",
       "      <td>0</td>\n",
       "      <td>0</td>\n",
       "      <td>0</td>\n",
       "      <td>0</td>\n",
       "    </tr>\n",
       "    <tr>\n",
       "      <th>1</th>\n",
       "      <td>2</td>\n",
       "      <td>0</td>\n",
       "      <td>0</td>\n",
       "      <td>0</td>\n",
       "      <td>0</td>\n",
       "      <td>0</td>\n",
       "      <td>0</td>\n",
       "      <td>0</td>\n",
       "      <td>0</td>\n",
       "      <td>0</td>\n",
       "      <td>...</td>\n",
       "      <td>0</td>\n",
       "      <td>0</td>\n",
       "      <td>0</td>\n",
       "      <td>0</td>\n",
       "      <td>0</td>\n",
       "      <td>0</td>\n",
       "      <td>0</td>\n",
       "      <td>0</td>\n",
       "      <td>0</td>\n",
       "      <td>0</td>\n",
       "    </tr>\n",
       "    <tr>\n",
       "      <th>2</th>\n",
       "      <td>1</td>\n",
       "      <td>0</td>\n",
       "      <td>0</td>\n",
       "      <td>0</td>\n",
       "      <td>0</td>\n",
       "      <td>0</td>\n",
       "      <td>0</td>\n",
       "      <td>0</td>\n",
       "      <td>0</td>\n",
       "      <td>0</td>\n",
       "      <td>...</td>\n",
       "      <td>0</td>\n",
       "      <td>0</td>\n",
       "      <td>0</td>\n",
       "      <td>0</td>\n",
       "      <td>0</td>\n",
       "      <td>0</td>\n",
       "      <td>0</td>\n",
       "      <td>0</td>\n",
       "      <td>0</td>\n",
       "      <td>0</td>\n",
       "    </tr>\n",
       "    <tr>\n",
       "      <th>3</th>\n",
       "      <td>0</td>\n",
       "      <td>0</td>\n",
       "      <td>0</td>\n",
       "      <td>0</td>\n",
       "      <td>0</td>\n",
       "      <td>0</td>\n",
       "      <td>0</td>\n",
       "      <td>0</td>\n",
       "      <td>0</td>\n",
       "      <td>0</td>\n",
       "      <td>...</td>\n",
       "      <td>0</td>\n",
       "      <td>0</td>\n",
       "      <td>0</td>\n",
       "      <td>0</td>\n",
       "      <td>0</td>\n",
       "      <td>0</td>\n",
       "      <td>0</td>\n",
       "      <td>0</td>\n",
       "      <td>0</td>\n",
       "      <td>0</td>\n",
       "    </tr>\n",
       "    <tr>\n",
       "      <th>4</th>\n",
       "      <td>4</td>\n",
       "      <td>0</td>\n",
       "      <td>0</td>\n",
       "      <td>0</td>\n",
       "      <td>0</td>\n",
       "      <td>0</td>\n",
       "      <td>0</td>\n",
       "      <td>0</td>\n",
       "      <td>0</td>\n",
       "      <td>0</td>\n",
       "      <td>...</td>\n",
       "      <td>0</td>\n",
       "      <td>0</td>\n",
       "      <td>0</td>\n",
       "      <td>0</td>\n",
       "      <td>0</td>\n",
       "      <td>0</td>\n",
       "      <td>0</td>\n",
       "      <td>0</td>\n",
       "      <td>0</td>\n",
       "      <td>0</td>\n",
       "    </tr>\n",
       "  </tbody>\n",
       "</table>\n",
       "<p>5 rows × 785 columns</p>\n",
       "</div>"
      ],
      "text/plain": [
       "   label  1x1  1x2  1x3  1x4  1x5  1x6  1x7  1x8  1x9  ...  28x19  28x20  \\\n",
       "0      7    0    0    0    0    0    0    0    0    0  ...      0      0   \n",
       "1      2    0    0    0    0    0    0    0    0    0  ...      0      0   \n",
       "2      1    0    0    0    0    0    0    0    0    0  ...      0      0   \n",
       "3      0    0    0    0    0    0    0    0    0    0  ...      0      0   \n",
       "4      4    0    0    0    0    0    0    0    0    0  ...      0      0   \n",
       "\n",
       "   28x21  28x22  28x23  28x24  28x25  28x26  28x27  28x28  \n",
       "0      0      0      0      0      0      0      0      0  \n",
       "1      0      0      0      0      0      0      0      0  \n",
       "2      0      0      0      0      0      0      0      0  \n",
       "3      0      0      0      0      0      0      0      0  \n",
       "4      0      0      0      0      0      0      0      0  \n",
       "\n",
       "[5 rows x 785 columns]"
      ]
     },
     "execution_count": 5,
     "metadata": {},
     "output_type": "execute_result"
    }
   ],
   "source": [
    "# printing the datase\n",
    "train_dataset.head()\n",
    "test_dataset.head()\n"
   ]
  },
  {
   "cell_type": "code",
   "execution_count": 6,
   "id": "a8bc6116",
   "metadata": {},
   "outputs": [
    {
     "name": "stdout",
     "output_type": "stream",
     "text": [
      "<class 'pandas.core.frame.DataFrame'>\n",
      "RangeIndex: 60000 entries, 0 to 59999\n",
      "Columns: 785 entries, label to 28x28\n",
      "dtypes: int64(785)\n",
      "memory usage: 359.3 MB\n",
      "None\n"
     ]
    }
   ],
   "source": [
    "#display basic info about datatype\n",
    "print(train_dataset.info())"
   ]
  },
  {
   "cell_type": "code",
   "execution_count": 7,
   "id": "2b6d73a0",
   "metadata": {},
   "outputs": [
    {
     "name": "stdout",
     "output_type": "stream",
     "text": [
      "label\n",
      "0    5923\n",
      "1    6742\n",
      "2    5958\n",
      "3    6131\n",
      "4    5842\n",
      "5    5421\n",
      "6    5918\n",
      "7    6265\n",
      "8    5851\n",
      "9    5949\n",
      "Name: count, dtype: int64\n"
     ]
    }
   ],
   "source": [
    "#display no of samples of each class\n",
    "label_counts = train_dataset['label'].value_counts().sort_index()\n",
    "print(label_counts)"
   ]
  },
  {
   "cell_type": "code",
   "execution_count": 8,
   "id": "60e12f7e",
   "metadata": {},
   "outputs": [
    {
     "data": {
      "image/png": "[encoded data removed]",
      "text/plain": [
       "<Figure size 800x600 with 1 Axes>"
      ]
     },
     "metadata": {},
     "output_type": "display_data"
    }
   ],
   "source": [
    "#visualizing each labels frequency\n",
    "\n",
    "plt.figure(figsize=(8, 6))\n",
    "plt.bar(label_counts.index, label_counts.values, color='skyblue', edgecolor='black')\n",
    "plt.title(\"Number of samples per digit in the training dataset\")\n",
    "plt.xlabel(\"Digit Label\")\n",
    "plt.ylabel(\"Frequency\")\n",
    "plt.xticks(label_counts.index)\n",
    "plt.show()"
   ]
  },
  {
   "cell_type": "markdown",
   "id": "31d267dc",
   "metadata": {},
   "source": [
    "## Preprocessing the training dataset"
   ]
  },
  {
   "cell_type": "code",
   "execution_count": 9,
   "id": "f70b9ea8",
   "metadata": {},
   "outputs": [
    {
     "name": "stdout",
     "output_type": "stream",
     "text": [
      "No null values are there\n"
     ]
    }
   ],
   "source": [
    "#to check for null values\n",
    "if(train_dataset.isnull().sum().sum()!=0):\n",
    "    print(\"Null values are there preprocessing requires\")\n",
    "else:\n",
    "    print(\"No null values are there\")"
   ]
  },
  {
   "cell_type": "markdown",
   "id": "8ed1e76c",
   "metadata": {},
   "source": [
    "## Visualizing the csv data into an image"
   ]
  },
  {
   "cell_type": "code",
   "execution_count": 10,
   "id": "6bd08759",
   "metadata": {},
   "outputs": [
    {
     "data": {
      "image/png": "[encoded data removed]",
      "text/plain": [
       "<Figure size 640x480 with 1 Axes>"
      ]
     },
     "metadata": {},
     "output_type": "display_data"
    }
   ],
   "source": [
    "#visualize any data sample as an image \n",
    "\n",
    "index = np.random.randint(0,m)  \n",
    "\n",
    "# Extract label and pixel values\n",
    "label = train_dataset.iloc[index, 0]\n",
    "pixels = train_dataset.iloc[index, 1:].values\n",
    "\n",
    "# Reshape to 28x28 image\n",
    "image = pixels.reshape((28, 28))\n",
    "\n",
    "# Plot it\n",
    "plt.imshow(image, cmap='gray')\n",
    "plt.title(f\"Label: {label}\")\n",
    "plt.axis('off')\n",
    "plt.show()"
   ]
  },
  {
   "cell_type": "markdown",
   "id": "bb3d502b",
   "metadata": {},
   "source": [
    "## Normalize The Dataset\n",
    "\n",
    "Calculate the mean and standard deviation of training dataset and apply this fit or normalization on both training and testing dataset"
   ]
  },
  {
   "cell_type": "code",
   "execution_count": 11,
   "id": "ab169148",
   "metadata": {},
   "outputs": [],
   "source": [
    "#labels and features seperated as X and Y from training and testing dataset\n",
    "Y_train=train_dataset['label']\n",
    "Y_test=test_dataset['label']\n",
    "X_train=train_dataset.drop('label',axis=1)\n",
    "X_test=test_dataset.drop('label',axis=1)"
   ]
  },
  {
   "cell_type": "code",
   "execution_count": 12,
   "id": "de703474",
   "metadata": {},
   "outputs": [],
   "source": [
    "#for convergence we have to scale the data\n",
    "from sklearn.preprocessing import StandardScaler\n",
    "\n",
    "scaler=StandardScaler()\n",
    "X_train=scaler.fit_transform(X_train)\n",
    "X_test=scaler.transform(X_test)"
   ]
  },
  {
   "cell_type": "markdown",
   "id": "9f62848d",
   "metadata": {},
   "source": [
    "## Logistic Regression Model for Classification"
   ]
  },
  {
   "cell_type": "code",
   "execution_count": 13,
   "id": "126ee888",
   "metadata": {},
   "outputs": [
    {
     "name": "stdout",
     "output_type": "stream",
     "text": [
      "Accuracy of Logistic Regression as model for our dataset :92.17%\n"
     ]
    }
   ],
   "source": [
    "#logistic regression model\n",
    "from sklearn.linear_model import LogisticRegression\n",
    "model=LogisticRegression(max_iter=200)\n",
    "model.fit(X_train,Y_train)\n",
    "acc_logistic=model.score(X_test,Y_test)*100\n",
    "print(\"Accuracy of Logistic Regression as model for our dataset :\"+str(acc_logistic)+\"%\")\n",
    "Y_pred_lr=model.predict(X_test)"
   ]
  },
  {
   "cell_type": "markdown",
   "id": "433891ec",
   "metadata": {},
   "source": [
    "## Multi layer perceptron Model(Neural Network) for Classification"
   ]
  },
  {
   "cell_type": "code",
   "execution_count": 14,
   "id": "3febeed7",
   "metadata": {},
   "outputs": [
    {
     "name": "stdout",
     "output_type": "stream",
     "text": [
      "Accuracy of Multi Layer Perceptron as model for our dataset :97.65%\n"
     ]
    }
   ],
   "source": [
    "#Multi layer perceptron model\n",
    "from sklearn.neural_network import MLPClassifier\n",
    "model = MLPClassifier(hidden_layer_sizes=(100,), max_iter=100, random_state=42)\n",
    "model.fit(X_train,Y_train)\n",
    "acc_nn=model.score(X_test,Y_test)*100\n",
    "Y_pred_nn=model.predict(X_test)\n",
    "print(\"Accuracy of Multi Layer Perceptron as model for our dataset :\"+str(acc_nn)+\"%\")"
   ]
  },
  {
   "cell_type": "markdown",
   "id": "bf10a4fd",
   "metadata": {},
   "source": [
    "## Classification Report and confusion matrix"
   ]
  },
  {
   "cell_type": "code",
   "execution_count": 17,
   "id": "6c1804b0",
   "metadata": {},
   "outputs": [
    {
     "name": "stdout",
     "output_type": "stream",
     "text": [
      "Confusion matrix for logistic regression model \n",
      "[[ 947    0    3    4    2   12    6    3    3    0]\n",
      " [   0 1108    8    3    0    2    3    1   10    0]\n",
      " [  10    9  918   17   11    5   13    7   38    4]\n",
      " [   3    1   19  922    2   21    3   11   21    7]\n",
      " [   1    3    9    4  915    1    7    7    6   29]\n",
      " [  10    5    3   34    9  773   14    8   32    4]\n",
      " [   8    4    8    3    5   18  909    1    2    0]\n",
      " [   3    8   23    7    6    2    0  944    5   30]\n",
      " [  10   12    5   23    8   26    9    9  857   15]\n",
      " [   7    7    2    8   20    8    0   23   10  924]]\n",
      "Classification report for logistic regression model \n",
      "              precision    recall  f1-score   support\n",
      "\n",
      "           0       0.95      0.97      0.96       980\n",
      "           1       0.96      0.98      0.97      1135\n",
      "           2       0.92      0.89      0.90      1032\n",
      "           3       0.90      0.91      0.91      1010\n",
      "           4       0.94      0.93      0.93       982\n",
      "           5       0.89      0.87      0.88       892\n",
      "           6       0.94      0.95      0.95       958\n",
      "           7       0.93      0.92      0.92      1028\n",
      "           8       0.87      0.88      0.88       974\n",
      "           9       0.91      0.92      0.91      1009\n",
      "\n",
      "    accuracy                           0.92     10000\n",
      "   macro avg       0.92      0.92      0.92     10000\n",
      "weighted avg       0.92      0.92      0.92     10000\n",
      "\n"
     ]
    }
   ],
   "source": [
    "#classification report and confusion matrix of all models\n",
    "from sklearn.metrics import classification_report, confusion_matrix\n",
    "print(\"Confusion matrix for logistic regression model \\n\"+str(confusion_matrix(Y_test, Y_pred_lr)))\n",
    "print(\"Classification report for logistic regression model \\n\"+str(classification_report(Y_test, Y_pred_lr)))"
   ]
  },
  {
   "cell_type": "code",
   "execution_count": 19,
   "id": "e2b71804",
   "metadata": {},
   "outputs": [
    {
     "name": "stdout",
     "output_type": "stream",
     "text": [
      "Confusion matrix for Multi layer perceptron Model \n",
      "[[ 965    0    1    0    0    2    5    1    3    3]\n",
      " [   0 1124    3    1    0    1    3    1    2    0]\n",
      " [   5    2 1003    3    1    1    2    4   11    0]\n",
      " [   0    0    7  989    0    6    1    3    2    2]\n",
      " [   3    1    3    1  959    0    5    1    2    7]\n",
      " [   2    0    0    7    1  873    3    0    4    2]\n",
      " [   5    2    4    1    3    3  937    0    3    0]\n",
      " [   1    4   11    2    1    0    0 1001    2    6]\n",
      " [   3    0    4    6    5    5    2    3  942    4]\n",
      " [   2    4    1    7    8    3    0    9    3  972]]\n",
      "Classification report for Multi layer perceptron Model \n",
      "              precision    recall  f1-score   support\n",
      "\n",
      "           0       0.98      0.98      0.98       980\n",
      "           1       0.99      0.99      0.99      1135\n",
      "           2       0.97      0.97      0.97      1032\n",
      "           3       0.97      0.98      0.98      1010\n",
      "           4       0.98      0.98      0.98       982\n",
      "           5       0.98      0.98      0.98       892\n",
      "           6       0.98      0.98      0.98       958\n",
      "           7       0.98      0.97      0.98      1028\n",
      "           8       0.97      0.97      0.97       974\n",
      "           9       0.98      0.96      0.97      1009\n",
      "\n",
      "    accuracy                           0.98     10000\n",
      "   macro avg       0.98      0.98      0.98     10000\n",
      "weighted avg       0.98      0.98      0.98     10000\n",
      "\n"
     ]
    }
   ],
   "source": [
    "print(\"Confusion matrix for Multi layer perceptron Model \\n\"+str(confusion_matrix(Y_test, Y_pred_nn)))\n",
    "print(\"Classification report for Multi layer perceptron Model \\n\"+str(classification_report(Y_test, Y_pred_nn)))\n"
   ]
  },
  {
   "cell_type": "markdown",
   "id": "978ec642",
   "metadata": {},
   "source": [
    "## Comparison of accuracies"
   ]
  },
  {
   "cell_type": "code",
   "execution_count": null,
   "id": "414c0d7c",
   "metadata": {},
   "outputs": [
    {
     "data": {
      "image/png": "[encoded data removed]",
      "text/plain": [
       "<Figure size 640x480 with 1 Axes>"
      ]
     },
     "metadata": {},
     "output_type": "display_data"
    }
   ],
   "source": [
    "#Accuracy of all models-visualized\n",
    "models=['Logistic Regression','Multilayer Perceptron Model']\n",
    "acc_y=[acc_logistic,acc_nn]\n",
    "plt.bar(models,acc_y,width=0.1)\n",
    "plt.title(\"Accuracy comparison of the models\")\n",
    "plt.xlabel(\"Model\")\n",
    "plt.ylabel(\"Accuracy in %age\")\n",
    "plt.show()\n",
    "\n"
   ]
  }
 ],
 "metadata": {
  "kernelspec": {
   "display_name": "Python 3",
   "language": "python",
   "name": "python3"
  },
  "language_info": {
   "codemirror_mode": {
    "name": "ipython",
    "version": 3
   },
   "file_extension": ".py",
   "mimetype": "text/x-python",
   "name": "python",
   "nbconvert_exporter": "python",
   "pygments_lexer": "ipython3",
   "version": "3.13.1"
  }
 },
 "nbformat": 4,
 "nbformat_minor": 5
}
